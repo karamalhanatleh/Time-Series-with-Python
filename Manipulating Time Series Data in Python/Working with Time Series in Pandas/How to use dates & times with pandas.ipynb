{
 "cells": [
  {
   "cell_type": "markdown",
   "id": "b0a110fe",
   "metadata": {},
   "source": [
    "# How to use dates & times with pandas\n"
   ]
  },
  {
   "cell_type": "code",
   "execution_count": 52,
   "id": "f4fe3e84",
   "metadata": {},
   "outputs": [],
   "source": [
    "#import\n",
    "import pandas as pd \n",
    "from datetime import datetime #\n",
    "import numpy as np"
   ]
  },
  {
   "cell_type": "code",
   "execution_count": null,
   "id": "c6282964",
   "metadata": {},
   "outputs": [],
   "source": []
  },
  {
   "cell_type": "markdown",
   "id": "084e6e4e",
   "metadata": {},
   "source": [
    "## Basic building block: pd.Timestamp\n"
   ]
  },
  {
   "cell_type": "code",
   "execution_count": null,
   "id": "609440a0",
   "metadata": {},
   "outputs": [],
   "source": []
  },
  {
   "cell_type": "code",
   "execution_count": 53,
   "id": "f6410b90",
   "metadata": {},
   "outputs": [
    {
     "data": {
      "text/plain": [
       "Timestamp('2017-01-01 00:00:00')"
      ]
     },
     "execution_count": 53,
     "metadata": {},
     "output_type": "execute_result"
    }
   ],
   "source": [
    "time_stamp = pd.Timestamp(datetime(2017,1,1))\n",
    "time_stamp"
   ]
  },
  {
   "cell_type": "code",
   "execution_count": 54,
   "id": "91abb651",
   "metadata": {},
   "outputs": [
    {
     "data": {
      "text/plain": [
       "True"
      ]
     },
     "execution_count": 54,
     "metadata": {},
     "output_type": "execute_result"
    }
   ],
   "source": [
    "pd.Timestamp('2017-01-01')== time_stamp"
   ]
  },
  {
   "cell_type": "markdown",
   "id": "d2cccd01",
   "metadata": {},
   "source": [
    "Timestamp object has many aributes to store time-specic\n",
    "information"
   ]
  },
  {
   "cell_type": "code",
   "execution_count": 55,
   "id": "7b371b94",
   "metadata": {},
   "outputs": [
    {
     "data": {
      "text/plain": [
       "2017"
      ]
     },
     "execution_count": 55,
     "metadata": {},
     "output_type": "execute_result"
    }
   ],
   "source": [
    "time_stamp.year"
   ]
  },
  {
   "cell_type": "code",
   "execution_count": 56,
   "id": "4822ad04",
   "metadata": {},
   "outputs": [
    {
     "data": {
      "text/plain": [
       "1"
      ]
     },
     "execution_count": 56,
     "metadata": {},
     "output_type": "execute_result"
    }
   ],
   "source": [
    "time_stamp.month"
   ]
  },
  {
   "cell_type": "code",
   "execution_count": 57,
   "id": "161f2f10",
   "metadata": {},
   "outputs": [
    {
     "data": {
      "text/plain": [
       "'Sunday'"
      ]
     },
     "execution_count": 57,
     "metadata": {},
     "output_type": "execute_result"
    }
   ],
   "source": [
    "time_stamp.day_name()"
   ]
  },
  {
   "cell_type": "code",
   "execution_count": 58,
   "id": "4022181a",
   "metadata": {},
   "outputs": [
    {
     "data": {
      "text/plain": [
       "Timestamp('2023-02-17 00:00:00')"
      ]
     },
     "execution_count": 58,
     "metadata": {},
     "output_type": "execute_result"
    }
   ],
   "source": [
    "#ex\n",
    "time_stamp2=pd.Timestamp('2023-02-17')\n",
    "time_stamp2"
   ]
  },
  {
   "cell_type": "code",
   "execution_count": 59,
   "id": "ec3997d9",
   "metadata": {},
   "outputs": [
    {
     "data": {
      "text/plain": [
       "2023"
      ]
     },
     "execution_count": 59,
     "metadata": {},
     "output_type": "execute_result"
    }
   ],
   "source": [
    "time_stamp2.year"
   ]
  },
  {
   "cell_type": "code",
   "execution_count": 60,
   "id": "04134c3b",
   "metadata": {},
   "outputs": [
    {
     "data": {
      "text/plain": [
       "'Friday'"
      ]
     },
     "execution_count": 60,
     "metadata": {},
     "output_type": "execute_result"
    }
   ],
   "source": [
    "time_stamp2.day_name()"
   ]
  },
  {
   "cell_type": "code",
   "execution_count": 61,
   "id": "0a17d0c6",
   "metadata": {},
   "outputs": [
    {
     "data": {
      "text/plain": [
       "48"
      ]
     },
     "execution_count": 61,
     "metadata": {},
     "output_type": "execute_result"
    }
   ],
   "source": [
    "time_stamp2.day_of_year"
   ]
  },
  {
   "cell_type": "code",
   "execution_count": null,
   "id": "59a05d13",
   "metadata": {},
   "outputs": [],
   "source": []
  },
  {
   "cell_type": "markdown",
   "id": "bc089a70",
   "metadata": {},
   "source": [
    "### More building blocks: pd.Period & freq\n"
   ]
  },
  {
   "cell_type": "code",
   "execution_count": 62,
   "id": "e773b04d",
   "metadata": {},
   "outputs": [
    {
     "data": {
      "text/plain": [
       "Period('2017-01', 'M')"
      ]
     },
     "execution_count": 62,
     "metadata": {},
     "output_type": "execute_result"
    }
   ],
   "source": [
    "period = pd.Period('2017-01')\n",
    "period"
   ]
  },
  {
   "cell_type": "code",
   "execution_count": 63,
   "id": "6ecd1518",
   "metadata": {},
   "outputs": [
    {
     "data": {
      "text/plain": [
       "Period('2017-01-31', 'D')"
      ]
     },
     "execution_count": 63,
     "metadata": {},
     "output_type": "execute_result"
    }
   ],
   "source": [
    "period.asfreq('D') # convert to daily"
   ]
  },
  {
   "cell_type": "code",
   "execution_count": 64,
   "id": "ee296646",
   "metadata": {},
   "outputs": [
    {
     "data": {
      "text/plain": [
       "Period('2017-01', 'M')"
      ]
     },
     "execution_count": 64,
     "metadata": {},
     "output_type": "execute_result"
    }
   ],
   "source": [
    "period.to_timestamp().to_period('M')"
   ]
  },
  {
   "cell_type": "code",
   "execution_count": null,
   "id": "40315c3c",
   "metadata": {},
   "outputs": [],
   "source": []
  },
  {
   "cell_type": "code",
   "execution_count": 65,
   "id": "03cdf739",
   "metadata": {},
   "outputs": [
    {
     "data": {
      "text/plain": [
       "Period('2017-11', 'M')"
      ]
     },
     "execution_count": 65,
     "metadata": {},
     "output_type": "execute_result"
    }
   ],
   "source": [
    "period+10"
   ]
  },
  {
   "cell_type": "code",
   "execution_count": 66,
   "id": "6315440d",
   "metadata": {},
   "outputs": [
    {
     "name": "stderr",
     "output_type": "stream",
     "text": [
      "C:\\Users\\DELL\\AppData\\Local\\Temp\\ipykernel_11176\\4253452756.py:1: FutureWarning: The 'freq' argument in Timestamp is deprecated and will be removed in a future version.\n",
      "  pd.Timestamp('2017-01-31','M')\n"
     ]
    },
    {
     "data": {
      "text/plain": [
       "Timestamp('2017-01-31 00:00:00', freq='M')"
      ]
     },
     "execution_count": 66,
     "metadata": {},
     "output_type": "execute_result"
    }
   ],
   "source": [
    "pd.Timestamp('2017-01-31','M')"
   ]
  },
  {
   "cell_type": "code",
   "execution_count": null,
   "id": "5efb13e5",
   "metadata": {},
   "outputs": [],
   "source": []
  },
  {
   "cell_type": "markdown",
   "id": "3efdd667",
   "metadata": {},
   "source": [
    "### Sequences of dates & times\n"
   ]
  },
  {
   "cell_type": "code",
   "execution_count": 67,
   "id": "b663e1ad",
   "metadata": {
    "scrolled": true
   },
   "outputs": [
    {
     "data": {
      "text/plain": [
       "DatetimeIndex(['2017-01-31', '2017-02-28', '2017-03-31', '2017-04-30',\n",
       "               '2017-05-31', '2017-06-30', '2017-07-31', '2017-08-31',\n",
       "               '2017-09-30', '2017-10-31', '2017-11-30', '2017-12-31'],\n",
       "              dtype='datetime64[ns]', freq='M')"
      ]
     },
     "execution_count": 67,
     "metadata": {},
     "output_type": "execute_result"
    }
   ],
   "source": [
    "index = pd.date_range(start='2017-1-1', periods=12, freq='M')\n",
    "index"
   ]
  },
  {
   "cell_type": "code",
   "execution_count": null,
   "id": "14a613ee",
   "metadata": {},
   "outputs": [],
   "source": []
  },
  {
   "cell_type": "code",
   "execution_count": 68,
   "id": "5ee6c32e",
   "metadata": {},
   "outputs": [],
   "source": [
    "##"
   ]
  },
  {
   "cell_type": "code",
   "execution_count": 69,
   "id": "ec4e7c67",
   "metadata": {},
   "outputs": [
    {
     "data": {
      "text/plain": [
       "DatetimeIndex(['2020-01-31', '2020-02-29', '2020-03-31', '2020-04-30',\n",
       "               '2020-05-31', '2020-06-30', '2020-07-31', '2020-08-31',\n",
       "               '2020-09-30', '2020-10-31', '2020-11-30', '2020-12-31'],\n",
       "              dtype='datetime64[ns]', freq='M')"
      ]
     },
     "execution_count": 69,
     "metadata": {},
     "output_type": "execute_result"
    }
   ],
   "source": [
    "#ex\n",
    "index2=pd.date_range(start='2020-1-1',periods=12, freq='M')\n",
    "index2"
   ]
  },
  {
   "cell_type": "code",
   "execution_count": 70,
   "id": "bbf3ea3c",
   "metadata": {},
   "outputs": [
    {
     "data": {
      "text/plain": [
       "DatetimeIndex(['2020-01-31', '2020-02-29', '2020-03-31', '2020-04-30',\n",
       "               '2020-05-31', '2020-06-30'],\n",
       "              dtype='datetime64[ns]', freq='M')"
      ]
     },
     "execution_count": 70,
     "metadata": {},
     "output_type": "execute_result"
    }
   ],
   "source": [
    "#ex\n",
    "index3=pd.date_range(start='2020-1-1',periods=6, freq='M')\n",
    "index3"
   ]
  },
  {
   "cell_type": "code",
   "execution_count": 71,
   "id": "531c98b3",
   "metadata": {},
   "outputs": [],
   "source": [
    "##"
   ]
  },
  {
   "cell_type": "code",
   "execution_count": null,
   "id": "8ea2a8d1",
   "metadata": {},
   "outputs": [],
   "source": []
  },
  {
   "cell_type": "code",
   "execution_count": 72,
   "id": "23c2d1f9",
   "metadata": {},
   "outputs": [
    {
     "data": {
      "text/plain": [
       "Timestamp('2017-01-31 00:00:00', freq='M')"
      ]
     },
     "execution_count": 72,
     "metadata": {},
     "output_type": "execute_result"
    }
   ],
   "source": [
    "index[0]"
   ]
  },
  {
   "cell_type": "code",
   "execution_count": 73,
   "id": "3285a698",
   "metadata": {},
   "outputs": [
    {
     "data": {
      "text/plain": [
       "PeriodIndex(['2017-01', '2017-02', '2017-03', '2017-04', '2017-05', '2017-06',\n",
       "             '2017-07', '2017-08', '2017-09', '2017-10', '2017-11', '2017-12'],\n",
       "            dtype='period[M]')"
      ]
     },
     "execution_count": 73,
     "metadata": {},
     "output_type": "execute_result"
    }
   ],
   "source": [
    "index.to_period()"
   ]
  },
  {
   "cell_type": "code",
   "execution_count": null,
   "id": "97a79596",
   "metadata": {},
   "outputs": [],
   "source": []
  },
  {
   "cell_type": "markdown",
   "id": "51648058",
   "metadata": {},
   "source": [
    "### Create a time series: pd.DateTimeIndex\n"
   ]
  },
  {
   "cell_type": "code",
   "execution_count": 74,
   "id": "e41ddeed",
   "metadata": {},
   "outputs": [
    {
     "name": "stdout",
     "output_type": "stream",
     "text": [
      "<class 'pandas.core.frame.DataFrame'>\n",
      "RangeIndex: 12 entries, 0 to 11\n",
      "Data columns (total 1 columns):\n",
      " #   Column  Non-Null Count  Dtype         \n",
      "---  ------  --------------  -----         \n",
      " 0   date    12 non-null     datetime64[ns]\n",
      "dtypes: datetime64[ns](1)\n",
      "memory usage: 224.0 bytes\n"
     ]
    }
   ],
   "source": [
    "pd.DataFrame( {\"date\":index}).info()"
   ]
  },
  {
   "cell_type": "code",
   "execution_count": null,
   "id": "07423ab4",
   "metadata": {},
   "outputs": [],
   "source": []
  },
  {
   "cell_type": "code",
   "execution_count": 78,
   "id": "465c05df",
   "metadata": {},
   "outputs": [
    {
     "data": {
      "text/plain": [
       "array([[0.39505227, 0.10666549],\n",
       "       [0.46907312, 0.73337179],\n",
       "       [0.29700848, 0.92425493],\n",
       "       [0.78827217, 0.31932287],\n",
       "       [0.34199026, 0.97795435],\n",
       "       [0.81738788, 0.37870742],\n",
       "       [0.55773794, 0.98818306],\n",
       "       [0.48343362, 0.80886979],\n",
       "       [0.66457512, 0.7239567 ],\n",
       "       [0.76449878, 0.17838551],\n",
       "       [0.91245992, 0.32726142],\n",
       "       [0.37220524, 0.20649652]])"
      ]
     },
     "execution_count": 78,
     "metadata": {},
     "output_type": "execute_result"
    }
   ],
   "source": [
    "data = np.random.random(size=(12,2))\n",
    "data"
   ]
  },
  {
   "cell_type": "code",
   "execution_count": 81,
   "id": "8435244d",
   "metadata": {},
   "outputs": [
    {
     "data": {
      "text/html": [
       "<div>\n",
       "<style scoped>\n",
       "    .dataframe tbody tr th:only-of-type {\n",
       "        vertical-align: middle;\n",
       "    }\n",
       "\n",
       "    .dataframe tbody tr th {\n",
       "        vertical-align: top;\n",
       "    }\n",
       "\n",
       "    .dataframe thead th {\n",
       "        text-align: right;\n",
       "    }\n",
       "</style>\n",
       "<table border=\"1\" class=\"dataframe\">\n",
       "  <thead>\n",
       "    <tr style=\"text-align: right;\">\n",
       "      <th></th>\n",
       "      <th>0</th>\n",
       "      <th>1</th>\n",
       "    </tr>\n",
       "  </thead>\n",
       "  <tbody>\n",
       "    <tr>\n",
       "      <th>2017-01-31</th>\n",
       "      <td>0.395052</td>\n",
       "      <td>0.106665</td>\n",
       "    </tr>\n",
       "    <tr>\n",
       "      <th>2017-02-28</th>\n",
       "      <td>0.469073</td>\n",
       "      <td>0.733372</td>\n",
       "    </tr>\n",
       "    <tr>\n",
       "      <th>2017-03-31</th>\n",
       "      <td>0.297008</td>\n",
       "      <td>0.924255</td>\n",
       "    </tr>\n",
       "    <tr>\n",
       "      <th>2017-04-30</th>\n",
       "      <td>0.788272</td>\n",
       "      <td>0.319323</td>\n",
       "    </tr>\n",
       "    <tr>\n",
       "      <th>2017-05-31</th>\n",
       "      <td>0.341990</td>\n",
       "      <td>0.977954</td>\n",
       "    </tr>\n",
       "    <tr>\n",
       "      <th>2017-06-30</th>\n",
       "      <td>0.817388</td>\n",
       "      <td>0.378707</td>\n",
       "    </tr>\n",
       "    <tr>\n",
       "      <th>2017-07-31</th>\n",
       "      <td>0.557738</td>\n",
       "      <td>0.988183</td>\n",
       "    </tr>\n",
       "    <tr>\n",
       "      <th>2017-08-31</th>\n",
       "      <td>0.483434</td>\n",
       "      <td>0.808870</td>\n",
       "    </tr>\n",
       "    <tr>\n",
       "      <th>2017-09-30</th>\n",
       "      <td>0.664575</td>\n",
       "      <td>0.723957</td>\n",
       "    </tr>\n",
       "    <tr>\n",
       "      <th>2017-10-31</th>\n",
       "      <td>0.764499</td>\n",
       "      <td>0.178386</td>\n",
       "    </tr>\n",
       "    <tr>\n",
       "      <th>2017-11-30</th>\n",
       "      <td>0.912460</td>\n",
       "      <td>0.327261</td>\n",
       "    </tr>\n",
       "    <tr>\n",
       "      <th>2017-12-31</th>\n",
       "      <td>0.372205</td>\n",
       "      <td>0.206497</td>\n",
       "    </tr>\n",
       "  </tbody>\n",
       "</table>\n",
       "</div>"
      ],
      "text/plain": [
       "                   0         1\n",
       "2017-01-31  0.395052  0.106665\n",
       "2017-02-28  0.469073  0.733372\n",
       "2017-03-31  0.297008  0.924255\n",
       "2017-04-30  0.788272  0.319323\n",
       "2017-05-31  0.341990  0.977954\n",
       "2017-06-30  0.817388  0.378707\n",
       "2017-07-31  0.557738  0.988183\n",
       "2017-08-31  0.483434  0.808870\n",
       "2017-09-30  0.664575  0.723957\n",
       "2017-10-31  0.764499  0.178386\n",
       "2017-11-30  0.912460  0.327261\n",
       "2017-12-31  0.372205  0.206497"
      ]
     },
     "execution_count": 81,
     "metadata": {},
     "output_type": "execute_result"
    }
   ],
   "source": [
    "pd.DataFrame(data = data , index=index)"
   ]
  },
  {
   "cell_type": "code",
   "execution_count": null,
   "id": "6efcc18e",
   "metadata": {},
   "outputs": [],
   "source": []
  },
  {
   "cell_type": "code",
   "execution_count": null,
   "id": "ed4b9856",
   "metadata": {},
   "outputs": [],
   "source": []
  }
 ],
 "metadata": {
  "kernelspec": {
   "display_name": "Python 3 (ipykernel)",
   "language": "python",
   "name": "python3"
  },
  "language_info": {
   "codemirror_mode": {
    "name": "ipython",
    "version": 3
   },
   "file_extension": ".py",
   "mimetype": "text/x-python",
   "name": "python",
   "nbconvert_exporter": "python",
   "pygments_lexer": "ipython3",
   "version": "3.9.13"
  }
 },
 "nbformat": 4,
 "nbformat_minor": 5
}
